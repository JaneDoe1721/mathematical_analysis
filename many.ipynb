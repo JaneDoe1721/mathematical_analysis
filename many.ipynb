{
 "cells": [
  {
   "cell_type": "code",
   "execution_count": 1,
   "metadata": {},
   "outputs": [],
   "source": [
    "# Зададим множества А и В и С.\n",
    "A = {'a', 1, 2}\n",
    "B = {'a', 'b', 1}\n",
    "C = {'c', 1, 4}"
   ]
  },
  {
   "cell_type": "code",
   "execution_count": 5,
   "metadata": {},
   "outputs": [
    {
     "name": "stdout",
     "output_type": "stream",
     "text": [
      "{1, 2, 'b', 'a'}\n",
      "{1, 2, 'c', 4, 'a'}\n",
      "{1, 'c', 4, 'b', 'a'}\n"
     ]
    }
   ],
   "source": [
    "# Объединение множеств\n",
    "print(A | B)\n",
    "print(A.union(C))\n",
    "print(B | C)"
   ]
  },
  {
   "cell_type": "code",
   "execution_count": 9,
   "metadata": {},
   "outputs": [
    {
     "name": "stdout",
     "output_type": "stream",
     "text": [
      "{'a', 1}\n",
      "{1}\n",
      "{1}\n"
     ]
    }
   ],
   "source": [
    "# Пересечение множеств\n",
    "print(A & B)\n",
    "print(A.intersection(C))\n",
    "print(B & C)"
   ]
  },
  {
   "cell_type": "code",
   "execution_count": 12,
   "metadata": {},
   "outputs": [
    {
     "name": "stdout",
     "output_type": "stream",
     "text": [
      "{2}\n",
      "{'b'}\n",
      "{'a', 2}\n",
      "{'c', 4}\n",
      "{'a', 'b'}\n",
      "{'c', 4}\n"
     ]
    }
   ],
   "source": [
    "# Разность множеств\n",
    "print(A - B)\n",
    "print(B.difference(A))\n",
    "print(A - C)\n",
    "print(C.difference(A))\n",
    "print(B - C)\n",
    "print(C.difference(B))"
   ]
  },
  {
   "cell_type": "code",
   "execution_count": 16,
   "metadata": {},
   "outputs": [
    {
     "name": "stdout",
     "output_type": "stream",
     "text": [
      "{2, 'b'}\n",
      "{2, 4, 'a', 'c'}\n",
      "{4, 'b', 'a', 'c'}\n"
     ]
    }
   ],
   "source": [
    "#Симметричная разность множеств\n",
    "print(A ^ B)\n",
    "print(A.symmetric_difference(C))\n",
    "print(B ^ C)"
   ]
  },
  {
   "cell_type": "code",
   "execution_count": 29,
   "metadata": {},
   "outputs": [
    {
     "name": "stdout",
     "output_type": "stream",
     "text": [
      "[('a', 'a'), ('a', 1), ('a', 'b'), (2, 'a'), (2, 1), (2, 'b'), (1, 'a'), (1, 1), (1, 'b')]\n",
      "[(1, 'a'), (1, 2), (1, 1), ('c', 'a'), ('c', 2), ('c', 1), (4, 'a'), (4, 2), (4, 1)]\n",
      "[('a', 1), ('a', 'c'), ('a', 4), (1, 1), (1, 'c'), (1, 4), ('b', 1), ('b', 'c'), ('b', 4)]\n"
     ]
    }
   ],
   "source": [
    "# Декартово произведение множеств\n",
    "import itertools\n",
    "result_a = list(itertools.product(A, B))\n",
    "print(result_a)\n",
    "result_c = list(itertools.product(C, A))\n",
    "print(result_c)\n",
    "result_b = list(itertools.product(B, C))\n",
    "print(result_b)"
   ]
  },
  {
   "cell_type": "code",
   "execution_count": null,
   "metadata": {},
   "outputs": [],
   "source": []
  }
 ],
 "metadata": {
  "kernelspec": {
   "display_name": "Python 3",
   "language": "python",
   "name": "python3"
  },
  "language_info": {
   "codemirror_mode": {
    "name": "ipython",
    "version": 3
   },
   "file_extension": ".py",
   "mimetype": "text/x-python",
   "name": "python",
   "nbconvert_exporter": "python",
   "pygments_lexer": "ipython3",
   "version": "3.8.3"
  }
 },
 "nbformat": 4,
 "nbformat_minor": 4
}
