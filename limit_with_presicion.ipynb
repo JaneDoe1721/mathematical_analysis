{
 "cells": [
  {
   "cell_type": "code",
   "execution_count": 17,
   "metadata": {},
   "outputs": [
    {
     "name": "stdout",
     "output_type": "stream",
     "text": [
      "Численное значение предела: 7.701780949425796e-13\n",
      "Погрешность: 1.607433270256349e-08\n",
      "Число шагов: 7\n",
      "False\n"
     ]
    }
   ],
   "source": [
    "import math\n",
    "eps = 10**(-7)\n",
    "lim = 1\n",
    "\n",
    "n = 2\n",
    "a2 = 1/3\n",
    "while lim > eps:\n",
    "    a1 = a2\n",
    "    a2 = (n)/((math.sqrt(math.factorial(n)))**n)\n",
    "    lim = abs(a1-a2)\n",
    "    n += 1\n",
    "print(f'Численное значение предела: {a2}\\nПогрешность: {lim}\\nЧисло шагов: {n-1}')\n",
    "print(a2 == eps)"
   ]
  },
  {
   "cell_type": "code",
   "execution_count": null,
   "metadata": {},
   "outputs": [],
   "source": []
  }
 ],
 "metadata": {
  "kernelspec": {
   "display_name": "Python 3",
   "language": "python",
   "name": "python3"
  },
  "language_info": {
   "codemirror_mode": {
    "name": "ipython",
    "version": 3
   },
   "file_extension": ".py",
   "mimetype": "text/x-python",
   "name": "python",
   "nbconvert_exporter": "python",
   "pygments_lexer": "ipython3",
   "version": "3.8.3"
  }
 },
 "nbformat": 4,
 "nbformat_minor": 4
}
